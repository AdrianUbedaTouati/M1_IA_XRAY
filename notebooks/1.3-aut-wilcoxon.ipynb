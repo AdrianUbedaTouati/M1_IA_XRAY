{
 "cells": [
  {
   "cell_type": "markdown",
   "metadata": {},
   "source": [
    "L'algorithme de Wilcoxon est un test statistique non paramétrique utilisé pour comparer deux échantillons liés (paires de données) et déterminer si l'un est significativement supérieur ou meilleur que l'autre. Il est idéal pour comparer des modèles lorsque l'on ne peut pas supposer que les données suivent une distribution normale, comme cela peut être le cas pour les résultats des réseaux neuronaux.  \n",
    "\n",
    "On peut affirmer avec 95 % de confiance qu'un modèle est supérieur à l'autre si la valeur p du test de Wilcoxon est inférieure à 0,05."
   ]
  },
  {
   "cell_type": "markdown",
   "metadata": {},
   "source": [
    "**stat** reflète l'ampleur de la variation des résultats des modèles comparés. Plus la valeur de cette statistique est élevée, plus il est probable qu'il y ait une différence réelle entre les modèles."
   ]
  },
  {
   "cell_type": "markdown",
   "metadata": {},
   "source": [
    "**p_value** nous donne la probabilité que cette différence soit survenue par hasard."
   ]
  },
  {
   "cell_type": "code",
   "execution_count": 20,
   "metadata": {},
   "outputs": [],
   "source": [
    "from scipy.stats import wilcoxon\n",
    "def testWilcoxon(modele1, modele2):\n",
    "\n",
    "    # Le modèle 1 est-il meilleur que le modèle 2 ?\n",
    "    stat, p_value = wilcoxon(modele1, modele2, alternative='greater')\n",
    "\n",
    "    # Afficher les résultats\n",
    "    print(f'Statistique du test : {stat}')\n",
    "    print(f'Valeur p : {p_value}')\n",
    "\n",
    "    # Vérifier si la différence est statistiquement significative\n",
    "    if p_value < 0.05:\n",
    "        print('La différence est statistiquement significative.')\n",
    "    else:\n",
    "        print('Pas suffisamment de preuves pour affirmer qu’il y a une différence significative.')\n",
    "\n"
   ]
  },
  {
   "cell_type": "code",
   "execution_count": 21,
   "metadata": {},
   "outputs": [],
   "source": [
    "def recuperer_donnees_fichier(nom_modele, liste):\n",
    "    \"\"\"\n",
    "    Récupère les données d'un fichier texte et les ajoute à une liste.\n",
    "\n",
    "    Args:\n",
    "        nom_modele (str): Le nom du modèle utilisé pour nommer le fichier.\n",
    "        liste (list): La liste dans laquelle les données seront ajoutées.\n",
    "\n",
    "    Returns:\n",
    "        None\n",
    "    \"\"\"\n",
    "    try:\n",
    "        # Ouvrir le fichier en mode lecture\n",
    "        with open(nom_modele, 'r') as fichier:\n",
    "            # Lire le contenu du fichier et le diviser en éléments\n",
    "            contenu = fichier.read().split()\n",
    "\n",
    "            # Convertir les éléments en nombres (si nécessaire) et les ajouter à la liste\n",
    "            liste.extend(float(element) for element in contenu)\n",
    "    except Exception as e:\n",
    "        print(f\"Erreur lors de la lecture du fichier : {e}\")"
   ]
  },
  {
   "cell_type": "code",
   "execution_count": 31,
   "metadata": {},
   "outputs": [],
   "source": [
    "def comparer_moyennes(tableau1, tableau2):\n",
    "    # Calculer la moyenne des deux tableaux\n",
    "    moyenne1 = sum(tableau1) / len(tableau1) if tableau1 else 0\n",
    "    moyenne2 = sum(tableau2) / len(tableau2) if tableau2 else 0\n",
    "    \n",
    "    # Imprimer les moyennes\n",
    "    print(f\"La moyenne du model 1 est: {moyenne1}\")\n",
    "    print(f\"La moyenne du model 2 est: {moyenne2}\")\n",
    "    \n",
    "    # Comparer les moyennes et afficher le résultat\n",
    "    if moyenne1 > moyenne2:\n",
    "        print(\"Le model 1 a la moyenne la plus élevée.\")\n",
    "    elif moyenne2 > moyenne1:\n",
    "        print(\"Le model 2 a la moyenne la plus élevée.\")\n",
    "    else:\n",
    "        print(\"Les deux tableaux ont la même moyenne.\")"
   ]
  },
  {
   "cell_type": "markdown",
   "metadata": {},
   "source": [
    "**Premier réseau VS Deuxième réseau**"
   ]
  },
  {
   "cell_type": "code",
   "execution_count": 32,
   "metadata": {},
   "outputs": [
    {
     "name": "stdout",
     "output_type": "stream",
     "text": [
      "La moyenne du model 1 est: 0.9875893004740556\n",
      "La moyenne du model 2 est: 0.9859189433138565\n",
      "Le model 1 a la moyenne la plus élevée.\n",
      "\n",
      "Statistique du test : 43.0\n",
      "Valeur p : 0.0654296875\n",
      "Pas suffisamment de preuves pour affirmer qu’il y a une différence significative.\n"
     ]
    }
   ],
   "source": [
    "nomModel1 = \"1_1_resultatsROC.txt\"\n",
    "nomModel2 = \"1_2_resultatsROC.txt\"\n",
    "\n",
    "resultatsROC_base = []\n",
    "resultatsROC_modificacion_images = []\n",
    "\n",
    "recuperer_donnees_fichier(nomModel1, resultatsROC_base)\n",
    "recuperer_donnees_fichier(nomModel2, resultatsROC_modificacion_images)\n",
    "\n",
    "comparer_moyennes(resultatsROC_base, resultatsROC_modificacion_images)\n",
    "print()\n",
    "testWilcoxon(resultatsROC_base, resultatsROC_modificacion_images)"
   ]
  },
  {
   "cell_type": "markdown",
   "metadata": {},
   "source": [
    "Nous pouvons affirmer que le premier réseau est meilleur que le second avec une probabilité de 93,5 %"
   ]
  },
  {
   "cell_type": "markdown",
   "metadata": {},
   "source": [
    "**Troisième réseau VS Quatrième réseau**"
   ]
  },
  {
   "cell_type": "code",
   "execution_count": 34,
   "metadata": {},
   "outputs": [
    {
     "name": "stdout",
     "output_type": "stream",
     "text": [
      "La moyenne du model 1 est: 0.9106784279220875\n",
      "La moyenne du model 2 est: 0.9004039325606483\n",
      "Le model 1 a la moyenne la plus élevée.\n",
      "\n",
      "Statistique du test : 54.0\n",
      "Valeur p : 0.001953125\n",
      "La différence est statistiquement significative.\n"
     ]
    }
   ],
   "source": [
    "nomModel1 = \"2_1_resultatsROC.txt\"\n",
    "nomModel2 = \"2_2_resultatsROC.txt\"\n",
    "\n",
    "resultatsROC_base = []\n",
    "resultatsROC_modificacion_images = []\n",
    "\n",
    "recuperer_donnees_fichier(nomModel1, resultatsROC_base)\n",
    "recuperer_donnees_fichier(nomModel2, resultatsROC_modificacion_images)\n",
    "\n",
    "comparer_moyennes(resultatsROC_base, resultatsROC_modificacion_images)\n",
    "print()\n",
    "testWilcoxon(resultatsROC_base, resultatsROC_modificacion_images)"
   ]
  },
  {
   "cell_type": "markdown",
   "metadata": {},
   "source": [
    "Nous pouvons affirmer que le premier réseau est meilleur que le second avec une probabilité de 99,8 %"
   ]
  }
 ],
 "metadata": {
  "kernelspec": {
   "display_name": "IA",
   "language": "python",
   "name": "python3"
  },
  "language_info": {
   "codemirror_mode": {
    "name": "ipython",
    "version": 3
   },
   "file_extension": ".py",
   "mimetype": "text/x-python",
   "name": "python",
   "nbconvert_exporter": "python",
   "pygments_lexer": "ipython3",
   "version": "3.12.6"
  }
 },
 "nbformat": 4,
 "nbformat_minor": 2
}
